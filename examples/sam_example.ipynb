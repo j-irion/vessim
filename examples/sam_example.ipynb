{
 "cells": [
  {
   "cell_type": "markdown",
   "source": [
    "# Co-Simulation\n",
    "\n",
    "In this example, we simulate a basic energy system of a small datacenter equipped with on-site solar power and a simple battery."
   ],
   "metadata": {
    "collapsed": false
   },
   "id": "1e86715fbdc355df"
  },
  {
   "cell_type": "code",
   "source": [
    "import pandas as pd\n",
    "\n",
    "from vessim.actor import ComputingSystem, Generator\n",
    "from vessim.controller import Monitor\n",
    "from vessim.cosim import Environment\n",
    "from vessim.power_meter import MockPowerMeter\n",
    "from vessim.signal import SAMSignal\n",
    "from vessim.storage import SimpleBattery\n",
    "\n",
    "# Hotfix to execute asyncio in Jupyter\n",
    "import nest_asyncio\n",
    "nest_asyncio.apply()"
   ],
   "metadata": {
    "collapsed": false,
    "ExecuteTime": {
     "end_time": "2024-04-12T17:58:15.658137Z",
     "start_time": "2024-04-12T17:58:15.347751Z"
    }
   },
   "id": "a1365cc233d5fbea",
   "execution_count": 1,
   "outputs": []
  },
  {
   "cell_type": "markdown",
   "source": [
    "We define an `Environment` with a single `Microgird` that comprises\n",
    "\n",
    "- A simulated `ComputingSystem` with two servers that consistently draw 200W and 250W, respectively. The datacenter has a [power usage effectiveness](https://en.wikipedia.org/wiki/Power_usage_effectiveness) of 1.6, resulting in a total power demand of 1.6 * (200 W + 250 W) = 720 W.\n",
    "- A `Generator` which represents a wind turbine, modeled according to the dataset `solcast2022_global` and the configuration file `windpower_config`.\n",
    "- A `SimpleBattery` with a usable capacity of 100 Wh which is charged with 1Wh.\n",
    "- A `Monitor` which periodically stores the microgrid state and eventually writes it to a CSV file."
   ],
   "metadata": {
    "collapsed": false
   },
   "id": "9c25a611ca19c756"
  },
  {
   "cell_type": "code",
   "source": [
    "environment = Environment(sim_start=\"2020-06-11 00:00:00\")\n",
    "\n",
    "monitor = Monitor()  # stores simulation result on each step\n",
    "environment.add_microgrid(\n",
    "    actors=[\n",
    "        ComputingSystem(power_meters=[MockPowerMeter(p=200), MockPowerMeter(p=250)], pue=1.6),\n",
    "        Generator(signal=SAMSignal(model=\"Windpower\", weather_file=\"./data/WIND-Toolkit_lat44.32_lon-74.13_2014_5min_flat_lands_northern_ny.csv\", config_file=\"./data/windpower_config.json\"))\n",
    "    ],\n",
    "    controllers=[monitor],\n",
    "    storage=SimpleBattery(capacity=100, charge_level=100),\n",
    "    step_size=60,  # global step size (can be overridden by actors or controllers)\n",
    ")\n",
    "\n",
    "environment.run(until=24 * 3600)  # 24h\n",
    "monitor.to_csv(\"result.csv\")"
   ],
   "metadata": {
    "collapsed": false,
    "ExecuteTime": {
     "end_time": "2024-04-12T17:58:19.393697Z",
     "start_time": "2024-04-12T17:58:15.659139Z"
    }
   },
   "id": "814fd7f48032c119",
   "execution_count": 2,
   "outputs": []
  }
 ],
 "metadata": {
  "kernelspec": {
   "display_name": "Python 3",
   "language": "python",
   "name": "python3"
  },
  "language_info": {
   "codemirror_mode": {
    "name": "ipython",
    "version": 2
   },
   "file_extension": ".py",
   "mimetype": "text/x-python",
   "name": "python",
   "nbconvert_exporter": "python",
   "pygments_lexer": "ipython2",
   "version": "2.7.6"
  }
 },
 "nbformat": 4,
 "nbformat_minor": 5
}
