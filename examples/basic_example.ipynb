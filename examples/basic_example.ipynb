{
 "cells": [
  {
   "cell_type": "markdown",
   "metadata": {},
   "source": [
    "# Co-Simulation\n",
    "\n",
    "In this example, we simulate a basic energy system of a small datacenter equipped with on-site solar power and a simple battery."
   ]
  },
  {
   "cell_type": "code",
   "execution_count": 1,
   "metadata": {},
   "outputs": [],
   "source": [
    "import pandas as pd\n",
    "\n",
    "from vessim.actor import ComputingSystem, Generator\n",
    "from vessim.controller import Monitor\n",
    "from vessim.cosim import Environment\n",
    "from vessim.power_meter import MockPowerMeter\n",
    "from vessim.signal import HistoricalSignal\n",
    "from vessim.storage import SimpleBattery\n",
    "\n",
    "# Hotfix to execute asyncio in Jupyter\n",
    "import nest_asyncio\n",
    "nest_asyncio.apply()"
   ]
  },
  {
   "cell_type": "markdown",
   "metadata": {},
   "source": [
    "We define an `Environment` with a single `Microgird` that comprises\n",
    "\n",
    "- A simulated `ComputingSystem` with two servers that consistently draw 200W and 250W, respectively. The datacenter has a [power usage effectiveness](https://en.wikipedia.org/wiki/Power_usage_effectiveness) of 1.6, resulting in a total power demand of 1.6 * (200 W + 250 W) = 720 W.\n",
    "- A `Generator` which represents a solar panel in Berlin, modeled according to the dataset `solcast2022_global` that comes with Vessim (see \"Signal\" example).\n",
    "- A `SimpleBattery` with a usable capacity of 100 Wh which is charged with 1Wh.\n",
    "- A `Monitor` which periodically stores the microgrid state and eventually writes it to a CSV file."
   ]
  },
  {
   "cell_type": "code",
   "execution_count": 2,
   "metadata": {},
   "outputs": [
    {
     "name": "stderr",
     "output_type": "stream",
     "text": [
      "2024-03-13 16:21:00.788 | INFO     | mosaik.scenario:start:280 - Starting \"Actor\" as \"Actor-0\" ...\n",
      "2024-03-13 16:21:00.789 | INFO     | mosaik.scenario:start:280 - Starting \"Actor\" as \"Actor-1\" ...\n",
      "2024-03-13 16:21:00.790 | INFO     | mosaik.scenario:start:280 - Starting \"Grid\" as \"Grid-0\" ...\n",
      "2024-03-13 16:21:00.791 | INFO     | mosaik.scenario:start:280 - Starting \"Controller\" as \"Controller-0\" ...\n",
      "2024-03-13 16:21:00.794 | INFO     | mosaik.scenario:run:598 - Starting simulation.\n",
      "100%|\u001b[32m██████████████████████████████████████████████████████████████████████████████████████████████████████████████████████████████\u001b[0m| 86400/86400 [00:00<00:00, 117148.08steps/s]\u001b[0m\n",
      "2024-03-13 16:21:01.542 | INFO     | mosaik.scenario:run:646 - Simulation finished successfully.\n"
     ]
    }
   ],
   "source": [
    "environment = Environment(sim_start=\"2020-06-11 00:00:00\")\n",
    "\n",
    "monitor = Monitor()  # stores simulation result on each step\n",
    "environment.add_microgrid(\n",
    "    actors=[\n",
    "        ComputingSystem(power_meters=[MockPowerMeter(p=200), MockPowerMeter(p=250)], pue=1.6),\n",
    "        Generator(signal=HistoricalSignal.from_dataset(\"solcast2022_global\"), column=\"Berlin\"),\n",
    "    ],\n",
    "    controllers=[monitor],\n",
    "    storage=SimpleBattery(capacity=100, charge_level=100),\n",
    "    step_size=60,  # global step size (can be overridden by actors or controllers)\n",
    ")\n",
    "\n",
    "environment.run(until=24 * 3600)  # 24h\n",
    "monitor.to_csv(\"result.csv\")"
   ]
  },
  {
   "cell_type": "markdown",
   "metadata": {},
   "source": [
    "For example, we can observe that at 10pm, the battery is fully drained and there is also no solar power production at night.\n",
    "The resulting $p_{delta}$ of -720 \n",
    "W has to be drawn from the public grid."
   ]
  },
  {
   "cell_type": "code",
   "execution_count": 3,
   "metadata": {},
   "outputs": [
    {
     "data": {
      "text/plain": [
       "-720.0"
      ]
     },
     "execution_count": 3,
     "metadata": {},
     "output_type": "execute_result"
    }
   ],
   "source": [
    "monitor.monitor_log[pd.to_datetime('2020-06-11 22:00:00')][\"p_delta\"]"
   ]
  }
 ],
 "metadata": {
  "kernelspec": {
   "display_name": "Python 3 (ipykernel)",
   "language": "python",
   "name": "python3"
  },
  "language_info": {
   "codemirror_mode": {
    "name": "ipython",
    "version": 3
   },
   "file_extension": ".py",
   "mimetype": "text/x-python",
   "name": "python",
   "nbconvert_exporter": "python",
   "pygments_lexer": "ipython3",
   "version": "3.8.12"
  }
 },
 "nbformat": 4,
 "nbformat_minor": 4
}
