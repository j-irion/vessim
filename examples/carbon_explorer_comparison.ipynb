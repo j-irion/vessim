{
 "cells": [
  {
   "cell_type": "code",
   "id": "initial_id",
   "metadata": {
    "collapsed": true,
    "ExecuteTime": {
     "end_time": "2025-01-09T14:46:53.503906Z",
     "start_time": "2025-01-09T14:46:53.440170Z"
    }
   },
   "source": [
    "import os\n",
    "from hydra import initialize, initialize_config_module, initialize_config_dir, compose\n",
    "from omegaconf import OmegaConf"
   ],
   "outputs": [],
   "execution_count": 1
  },
  {
   "metadata": {},
   "cell_type": "markdown",
   "source": [
    "## initialize()\n",
    "Initializes Hydra and add the config_path to the config search path. config_path is relative to the parent of the caller, in this case it is realtive to the directory containing this Notebook."
   ],
   "id": "df1e5fab86f42c6b"
  },
  {
   "metadata": {
    "ExecuteTime": {
     "end_time": "2025-01-09T14:49:01.621178Z",
     "start_time": "2025-01-09T14:49:01.563074Z"
    }
   },
   "cell_type": "code",
   "source": [
    "with initialize(version_base=None, config_path=\"data\"):\n",
    "    cfg = compose(config_name=\"config\")\n",
    "    print(cfg)"
   ],
   "id": "d4a6e8fe9f7a5dd0",
   "outputs": [
    {
     "name": "stdout",
     "output_type": "stream",
     "text": [
      "{'wind_system_capacity': 1500, 'solar_system_capacity': 1500, 'wind_turbine_model': 'GE 1.5sle', 'file_paths': {'power_data': './data/power_data.csv', 'wind_data': './data/wind_data_berkeley.csv', 'solar_data': './data/solar_data_berkeley.csv', 'solar_config': './data/pvwatts_config.json', 'wind_config': './data/windpower_config.json', 'wind_turbines': './data/Wind_Turbines.csv', 'carbon_data': './data/carbon_data.csv'}}\n"
     ]
    }
   ],
   "execution_count": 6
  },
  {
   "metadata": {
    "ExecuteTime": {
     "end_time": "2025-01-09T14:49:02.707617Z",
     "start_time": "2025-01-09T14:49:02.702286Z"
    }
   },
   "cell_type": "code",
   "source": [
    "import math\n",
    "\n",
    "def automatic_farm_layout(\n",
    "    desired_farm_size: float, wind_turbine_kw_rating: float, wind_turbine_rotor_diameter: float\n",
    "):\n",
    "    num = math.floor(desired_farm_size / wind_turbine_kw_rating)\n",
    "    if num <= 1:\n",
    "        num = 1\n",
    "    num_turbines = num\n",
    "\n",
    "    x = [0] * num_turbines\n",
    "    y = [0] * num_turbines\n",
    "\n",
    "    # Assume they are laid out in roughly a square\n",
    "    rows = math.floor(math.sqrt(num_turbines))\n",
    "    cols = num_turbines / rows\n",
    "    while rows * math.floor(cols) != num_turbines:  # If not evenly divisible\n",
    "        rows -= 1  # Decrease the number of rows until it does divide evenly\n",
    "        # If num_turbines is prime, this will continue until rows = 1\n",
    "        cols = num_turbines / rows\n",
    "\n",
    "    # Use default spacing assumptions, in multiples of rotor diameters\n",
    "    spacing_x = 8 * wind_turbine_rotor_diameter\n",
    "    spacing_y = 8 * wind_turbine_rotor_diameter\n",
    "\n",
    "    # First turbine placement\n",
    "    x[0] = 0\n",
    "    y[0] = 0\n",
    "\n",
    "    # Remainder of turbines\n",
    "    for i in range(1, num_turbines):\n",
    "        x[i] = (i - cols * math.floor(i / cols)) * spacing_x\n",
    "        y[i] = math.floor(i / cols) * spacing_y\n",
    "\n",
    "    return {\n",
    "        \"wind_farm_xCoordinates\": x,\n",
    "        \"wind_farm_yCoordinates\": y,\n",
    "    }"
   ],
   "id": "4d1f4aeb7f3cd6a3",
   "outputs": [],
   "execution_count": 7
  },
  {
   "metadata": {
    "ExecuteTime": {
     "end_time": "2025-01-09T14:50:28.640850Z",
     "start_time": "2025-01-09T14:50:27.804801Z"
    }
   },
   "cell_type": "code",
   "source": [
    "import json\n",
    "import hydra\n",
    "from vessim.signal import SAMSignal\n",
    "from vessim.power_meter import FilePowerMeter\n",
    "from vessim.actor import ComputingSystem, Generator\n",
    "from vessim.controller import Monitor\n",
    "from vessim.cosim import Environment\n",
    "import pandas as pd\n",
    "\n",
    "def main(cfg):\n",
    "    all_turbines = pd.read_csv(cfg.file_paths.wind_turbines, on_bad_lines=\"warn\")\n",
    "    turbine_data = all_turbines[all_turbines[\"Name\"] == cfg.wind_turbine_model]\n",
    "    turbine_rating = int(turbine_data[\"kW Rating\"].values[0])\n",
    "    turbine_rotor_diameter = int(turbine_data[\"Rotor Diameter\"].values[0])\n",
    "    turbine_power_curve = [\n",
    "        float(value) for value in turbine_data[\"Power Curve Array\"].values[0].split(\"|\")\n",
    "    ]\n",
    "    turbine_wind_speeds = [\n",
    "        float(value) for value in turbine_data[\"Wind Speed Array\"].values[0].split(\"|\")\n",
    "    ]\n",
    "\n",
    "    # Create wind config object\n",
    "    with open(cfg.file_paths.wind_config, \"r\", errors=\"replace\") as file:\n",
    "        wind_config = json.load(file)\n",
    "    farm_layout = automatic_farm_layout(\n",
    "        desired_farm_size=cfg.wind_system_capacity,\n",
    "        wind_turbine_kw_rating=turbine_rating,\n",
    "        wind_turbine_rotor_diameter=turbine_rotor_diameter,\n",
    "    )\n",
    "\n",
    "    wind_config = {\n",
    "        **wind_config,\n",
    "        **farm_layout,\n",
    "        \"system_capacity\": cfg.wind_system_capacity,\n",
    "        \"wind_turbine_powercurve_windspeeds\": turbine_wind_speeds,\n",
    "        \"wind_turbine_powercurve_powerout\": turbine_power_curve,\n",
    "        \"wind_turbine_rotor_diameter\": turbine_rotor_diameter,\n",
    "    }\n",
    "\n",
    "    # Create solar config object\n",
    "    with open(cfg.file_paths.solar_config, \"r\", errors=\"replace\") as file:\n",
    "        solar_config = json.load(file)\n",
    "\n",
    "    solar_config[\"system_capacity\"] = cfg.solar_system_capacity\n",
    "\n",
    "    environment = Environment(sim_start=\"2020-05-01 00:00:00\")\n",
    "\n",
    "    monitor = Monitor()  # stores simulation result on each step\n",
    "    environment.add_microgrid(\n",
    "        actors=[\n",
    "            ComputingSystem(\n",
    "                power_meters=[\n",
    "                    FilePowerMeter(\n",
    "                        file_path=cfg.file_paths.power_data,\n",
    "                        unit=\"MW\",\n",
    "                        date_format=\"%a %d %b %Y %H:%M:%S GMT\",\n",
    "                    )\n",
    "                ],\n",
    "                pue=1.07,\n",
    "            ),\n",
    "            Generator(\n",
    "                signal=SAMSignal(\n",
    "                    model=\"Windpower\",\n",
    "                    weather_file=cfg.file_paths.wind_data,\n",
    "                    config_object=wind_config,\n",
    "                ),\n",
    "                name=\"Wind\",\n",
    "            ),\n",
    "            Generator(\n",
    "                signal=SAMSignal(\n",
    "                    model=\"Pvwattsv8\",\n",
    "                    weather_file=cfg.file_paths.solar_data,\n",
    "                    config_object=solar_config,\n",
    "                ),\n",
    "                name=\"Solar\",\n",
    "            ),\n",
    "        ],\n",
    "        controllers=[monitor],\n",
    "        step_size=60,  # global step size (can be overridden by actors or controllers)\n",
    "    )\n",
    "\n",
    "    environment.run(until=24 * 3600 * 14)  # 14 Tage\n",
    "    monitor.to_csv(\"result.csv\")\n",
    "\n",
    "    # Load the CSV file and calculate statistics\n",
    "    df = pd.read_csv(\"result.csv\", index_col=0, parse_dates=True)\n",
    "    abs_p_delta = df[\"p_delta\"].abs()\n",
    "    avg_abs_p_delta = abs_p_delta.mean()\n",
    "    std_abs_p_delta = abs_p_delta.std()\n",
    "\n",
    "    # Calculate the embodied carbon of the wind power\n",
    "    sum_wind_power_watts = df[\"actor_infos.Wind.p\"].sum()\n",
    "    total_wind_power_kWh = (sum_wind_power_watts / 1000) * (1 / 60)\n",
    "    embodied_carbon_wind_grams_co2 = 12 * total_wind_power_kWh\n",
    "\n",
    "    # Calculate the embodied carbon of the solar power\n",
    "    sum_solar_power_watts = df[\"actor_infos.Solar.p\"].sum()\n",
    "    total_solar_power_kWh = (sum_solar_power_watts / 1000) * (1 / 60)\n",
    "    embodied_carbon_solar_grams_co2 = 70 * total_solar_power_kWh\n",
    "\n",
    "    embodied_carbon = embodied_carbon_wind_grams_co2 + embodied_carbon_solar_grams_co2\n",
    "\n",
    "    # embodied_carbon = embodied_carbon_solar_grams_co2\n",
    "\n",
    "    # Calculate the operational carbon\n",
    "    carbon_data = pd.read_csv(cfg.file_paths.carbon_data, index_col=0, parse_dates=True)\n",
    "\n",
    "    carbon_data.index = carbon_data.index.tz_localize(None)\n",
    "\n",
    "    carbon_data_resampled = carbon_data.resample(\"60S\").ffill()\n",
    "    carbon_data_filtered = carbon_data_resampled.loc[df.index.min() : df.index.max()]\n",
    "\n",
    "    merged_data = df.merge(carbon_data_filtered, left_index=True, right_index=True, how=\"left\")\n",
    "\n",
    "    merged_data[\"carbon_emissions\"] = merged_data.apply(\n",
    "        lambda row: (\n",
    "            (-1 * row[\"p_delta\"] / 1000 * (1 / 60) * row[\"carbon_intensity\"])\n",
    "            if row[\"p_delta\"] < 0\n",
    "            else 0\n",
    "        ),\n",
    "        axis=1,\n",
    "    )\n",
    "\n",
    "    operational_carbon = merged_data[\"carbon_emissions\"].sum()\n",
    "\n",
    "    merged_data.to_csv(\n",
    "        hydra.core.hydra_config.HydraConfig.get().runtime.output_dir + \"/merged_data.csv\"\n",
    "    )\n",
    "\n",
    "    return operational_carbon, embodied_carbon, avg_abs_p_delta\n",
    "\n",
    "print(cfg.file_paths)\n",
    "main(cfg)"
   ],
   "id": "d2161dad7d2fa225",
   "outputs": [
    {
     "name": "stdout",
     "output_type": "stream",
     "text": [
      "{'power_data': './data/power_data.csv', 'wind_data': './data/wind_data_berkeley.csv', 'solar_data': './data/solar_data_berkeley.csv', 'solar_config': './data/pvwatts_config.json', 'wind_config': './data/windpower_config.json', 'wind_turbines': './data/Wind_Turbines.csv', 'carbon_data': './data/carbon_data.csv'}\n"
     ]
    },
    {
     "name": "stderr",
     "output_type": "stream",
     "text": [
      "/var/folders/r9/bspfb4ms4bbgmqphvml3b5_w0000gn/T/ipykernel_63278/3687159361.py:11: ParserWarning: Skipping line 20: expected 6 fields, saw 7\n",
      "\n",
      "  all_turbines = pd.read_csv(cfg.file_paths.wind_turbines, on_bad_lines=\"warn\")\n",
      "\n",
      "        \u001B[32m____\u001B[0m                              _ _\n",
      "       \u001B[32m/    \\\u001B[0m                            (_) |\n",
      "  \u001B[34m____\u001B[32m/      \\\u001B[0m  _ __ ___   ___  ___  __ _ _| | __\n",
      " \u001B[34m/    \u001B[32m\\      /\u001B[0m | '_ ` _ \\ / _ \\/ __|/ _` | | |/ /\n",
      "\u001B[34m/      \u001B[32m\\____/\u001B[0m  | | | | | | (_) \\__ \\ (_| | |   <\n",
      "\u001B[34m\\      /\u001B[0m    \\  |_| |_| |_|\\___/|___/\\__,_|_|_|\\_\\\n",
      " \u001B[34m\\____/\u001B[0m      \\\u001B[31m____\u001B[0m\n",
      " \u001B[35m/    \\\u001B[0m      \u001B[31m/    \\\u001B[0m     mosaik: 3.4.0\n",
      "\u001B[35m/      \\\u001B[33m____\u001B[31m/      \\\u001B[0m       API: 3.0.13\n",
      "\u001B[35m\\      /\u001B[33m    \\\u001B[31m      /\u001B[0m    Python: 3.9.6\n",
      " \u001B[35m\\____/\u001B[33m      \\\u001B[31m____/\u001B[0m         OS: macOS-15.1.1-arm64-arm-64bit\n",
      "      \u001B[33m\\      /\u001B[0m            Docs: https://mosaik.readthedocs.io/en/3.4.0/\n",
      "       \u001B[33m\\____/\u001B[0m     Get in touch: https://github.com/orgs/OFFIS-mosaik/discussions\n",
      "\n"
     ]
    },
    {
     "ename": "RuntimeError",
     "evalue": "Cannot run the event loop while another loop is running",
     "output_type": "error",
     "traceback": [
      "\u001B[0;31m---------------------------------------------------------------------------\u001B[0m",
      "\u001B[0;31mRuntimeError\u001B[0m                              Traceback (most recent call last)",
      "Cell \u001B[0;32mIn[10], line 133\u001B[0m\n\u001B[1;32m    130\u001B[0m     \u001B[38;5;28;01mreturn\u001B[39;00m operational_carbon, embodied_carbon, avg_abs_p_delta\n\u001B[1;32m    132\u001B[0m \u001B[38;5;28mprint\u001B[39m(cfg\u001B[38;5;241m.\u001B[39mfile_paths)\n\u001B[0;32m--> 133\u001B[0m \u001B[43mmain\u001B[49m\u001B[43m(\u001B[49m\u001B[43mcfg\u001B[49m\u001B[43m)\u001B[49m\n",
      "Cell \u001B[0;32mIn[10], line 49\u001B[0m, in \u001B[0;36mmain\u001B[0;34m(cfg)\u001B[0m\n\u001B[1;32m     46\u001B[0m environment \u001B[38;5;241m=\u001B[39m Environment(sim_start\u001B[38;5;241m=\u001B[39m\u001B[38;5;124m\"\u001B[39m\u001B[38;5;124m2020-05-01 00:00:00\u001B[39m\u001B[38;5;124m\"\u001B[39m)\n\u001B[1;32m     48\u001B[0m monitor \u001B[38;5;241m=\u001B[39m Monitor()  \u001B[38;5;66;03m# stores simulation result on each step\u001B[39;00m\n\u001B[0;32m---> 49\u001B[0m \u001B[43menvironment\u001B[49m\u001B[38;5;241;43m.\u001B[39;49m\u001B[43madd_microgrid\u001B[49m\u001B[43m(\u001B[49m\n\u001B[1;32m     50\u001B[0m \u001B[43m    \u001B[49m\u001B[43mactors\u001B[49m\u001B[38;5;241;43m=\u001B[39;49m\u001B[43m[\u001B[49m\n\u001B[1;32m     51\u001B[0m \u001B[43m        \u001B[49m\u001B[43mComputingSystem\u001B[49m\u001B[43m(\u001B[49m\n\u001B[1;32m     52\u001B[0m \u001B[43m            \u001B[49m\u001B[43mpower_meters\u001B[49m\u001B[38;5;241;43m=\u001B[39;49m\u001B[43m[\u001B[49m\n\u001B[1;32m     53\u001B[0m \u001B[43m                \u001B[49m\u001B[43mFilePowerMeter\u001B[49m\u001B[43m(\u001B[49m\n\u001B[1;32m     54\u001B[0m \u001B[43m                    \u001B[49m\u001B[43mfile_path\u001B[49m\u001B[38;5;241;43m=\u001B[39;49m\u001B[43mcfg\u001B[49m\u001B[38;5;241;43m.\u001B[39;49m\u001B[43mfile_paths\u001B[49m\u001B[38;5;241;43m.\u001B[39;49m\u001B[43mpower_data\u001B[49m\u001B[43m,\u001B[49m\n\u001B[1;32m     55\u001B[0m \u001B[43m                    \u001B[49m\u001B[43munit\u001B[49m\u001B[38;5;241;43m=\u001B[39;49m\u001B[38;5;124;43m\"\u001B[39;49m\u001B[38;5;124;43mMW\u001B[39;49m\u001B[38;5;124;43m\"\u001B[39;49m\u001B[43m,\u001B[49m\n\u001B[1;32m     56\u001B[0m \u001B[43m                    \u001B[49m\u001B[43mdate_format\u001B[49m\u001B[38;5;241;43m=\u001B[39;49m\u001B[38;5;124;43m\"\u001B[39;49m\u001B[38;5;132;43;01m%a\u001B[39;49;00m\u001B[38;5;124;43m \u001B[39;49m\u001B[38;5;132;43;01m%d\u001B[39;49;00m\u001B[38;5;124;43m \u001B[39;49m\u001B[38;5;124;43m%\u001B[39;49m\u001B[38;5;124;43mb \u001B[39;49m\u001B[38;5;124;43m%\u001B[39;49m\u001B[38;5;124;43mY \u001B[39;49m\u001B[38;5;124;43m%\u001B[39;49m\u001B[38;5;124;43mH:\u001B[39;49m\u001B[38;5;124;43m%\u001B[39;49m\u001B[38;5;124;43mM:\u001B[39;49m\u001B[38;5;124;43m%\u001B[39;49m\u001B[38;5;124;43mS GMT\u001B[39;49m\u001B[38;5;124;43m\"\u001B[39;49m\u001B[43m,\u001B[49m\n\u001B[1;32m     57\u001B[0m \u001B[43m                \u001B[49m\u001B[43m)\u001B[49m\n\u001B[1;32m     58\u001B[0m \u001B[43m            \u001B[49m\u001B[43m]\u001B[49m\u001B[43m,\u001B[49m\n\u001B[1;32m     59\u001B[0m \u001B[43m            \u001B[49m\u001B[43mpue\u001B[49m\u001B[38;5;241;43m=\u001B[39;49m\u001B[38;5;241;43m1.07\u001B[39;49m\u001B[43m,\u001B[49m\n\u001B[1;32m     60\u001B[0m \u001B[43m        \u001B[49m\u001B[43m)\u001B[49m\u001B[43m,\u001B[49m\n\u001B[1;32m     61\u001B[0m \u001B[43m        \u001B[49m\u001B[43mGenerator\u001B[49m\u001B[43m(\u001B[49m\n\u001B[1;32m     62\u001B[0m \u001B[43m            \u001B[49m\u001B[43msignal\u001B[49m\u001B[38;5;241;43m=\u001B[39;49m\u001B[43mSAMSignal\u001B[49m\u001B[43m(\u001B[49m\n\u001B[1;32m     63\u001B[0m \u001B[43m                \u001B[49m\u001B[43mmodel\u001B[49m\u001B[38;5;241;43m=\u001B[39;49m\u001B[38;5;124;43m\"\u001B[39;49m\u001B[38;5;124;43mWindpower\u001B[39;49m\u001B[38;5;124;43m\"\u001B[39;49m\u001B[43m,\u001B[49m\n\u001B[1;32m     64\u001B[0m \u001B[43m                \u001B[49m\u001B[43mweather_file\u001B[49m\u001B[38;5;241;43m=\u001B[39;49m\u001B[43mcfg\u001B[49m\u001B[38;5;241;43m.\u001B[39;49m\u001B[43mfile_paths\u001B[49m\u001B[38;5;241;43m.\u001B[39;49m\u001B[43mwind_data\u001B[49m\u001B[43m,\u001B[49m\n\u001B[1;32m     65\u001B[0m \u001B[43m                \u001B[49m\u001B[43mconfig_object\u001B[49m\u001B[38;5;241;43m=\u001B[39;49m\u001B[43mwind_config\u001B[49m\u001B[43m,\u001B[49m\n\u001B[1;32m     66\u001B[0m \u001B[43m            \u001B[49m\u001B[43m)\u001B[49m\u001B[43m,\u001B[49m\n\u001B[1;32m     67\u001B[0m \u001B[43m            \u001B[49m\u001B[43mname\u001B[49m\u001B[38;5;241;43m=\u001B[39;49m\u001B[38;5;124;43m\"\u001B[39;49m\u001B[38;5;124;43mWind\u001B[39;49m\u001B[38;5;124;43m\"\u001B[39;49m\u001B[43m,\u001B[49m\n\u001B[1;32m     68\u001B[0m \u001B[43m        \u001B[49m\u001B[43m)\u001B[49m\u001B[43m,\u001B[49m\n\u001B[1;32m     69\u001B[0m \u001B[43m        \u001B[49m\u001B[43mGenerator\u001B[49m\u001B[43m(\u001B[49m\n\u001B[1;32m     70\u001B[0m \u001B[43m            \u001B[49m\u001B[43msignal\u001B[49m\u001B[38;5;241;43m=\u001B[39;49m\u001B[43mSAMSignal\u001B[49m\u001B[43m(\u001B[49m\n\u001B[1;32m     71\u001B[0m \u001B[43m                \u001B[49m\u001B[43mmodel\u001B[49m\u001B[38;5;241;43m=\u001B[39;49m\u001B[38;5;124;43m\"\u001B[39;49m\u001B[38;5;124;43mPvwattsv8\u001B[39;49m\u001B[38;5;124;43m\"\u001B[39;49m\u001B[43m,\u001B[49m\n\u001B[1;32m     72\u001B[0m \u001B[43m                \u001B[49m\u001B[43mweather_file\u001B[49m\u001B[38;5;241;43m=\u001B[39;49m\u001B[43mcfg\u001B[49m\u001B[38;5;241;43m.\u001B[39;49m\u001B[43mfile_paths\u001B[49m\u001B[38;5;241;43m.\u001B[39;49m\u001B[43msolar_data\u001B[49m\u001B[43m,\u001B[49m\n\u001B[1;32m     73\u001B[0m \u001B[43m                \u001B[49m\u001B[43mconfig_object\u001B[49m\u001B[38;5;241;43m=\u001B[39;49m\u001B[43msolar_config\u001B[49m\u001B[43m,\u001B[49m\n\u001B[1;32m     74\u001B[0m \u001B[43m            \u001B[49m\u001B[43m)\u001B[49m\u001B[43m,\u001B[49m\n\u001B[1;32m     75\u001B[0m \u001B[43m            \u001B[49m\u001B[43mname\u001B[49m\u001B[38;5;241;43m=\u001B[39;49m\u001B[38;5;124;43m\"\u001B[39;49m\u001B[38;5;124;43mSolar\u001B[39;49m\u001B[38;5;124;43m\"\u001B[39;49m\u001B[43m,\u001B[49m\n\u001B[1;32m     76\u001B[0m \u001B[43m        \u001B[49m\u001B[43m)\u001B[49m\u001B[43m,\u001B[49m\n\u001B[1;32m     77\u001B[0m \u001B[43m    \u001B[49m\u001B[43m]\u001B[49m\u001B[43m,\u001B[49m\n\u001B[1;32m     78\u001B[0m \u001B[43m    \u001B[49m\u001B[43mcontrollers\u001B[49m\u001B[38;5;241;43m=\u001B[39;49m\u001B[43m[\u001B[49m\u001B[43mmonitor\u001B[49m\u001B[43m]\u001B[49m\u001B[43m,\u001B[49m\n\u001B[1;32m     79\u001B[0m \u001B[43m    \u001B[49m\u001B[43mstep_size\u001B[49m\u001B[38;5;241;43m=\u001B[39;49m\u001B[38;5;241;43m60\u001B[39;49m\u001B[43m,\u001B[49m\u001B[43m  \u001B[49m\u001B[38;5;66;43;03m# global step size (can be overridden by actors or controllers)\u001B[39;49;00m\n\u001B[1;32m     80\u001B[0m \u001B[43m\u001B[49m\u001B[43m)\u001B[49m\n\u001B[1;32m     82\u001B[0m environment\u001B[38;5;241m.\u001B[39mrun(until\u001B[38;5;241m=\u001B[39m\u001B[38;5;241m24\u001B[39m \u001B[38;5;241m*\u001B[39m \u001B[38;5;241m3600\u001B[39m \u001B[38;5;241m*\u001B[39m \u001B[38;5;241m14\u001B[39m)  \u001B[38;5;66;03m# 14 Tage\u001B[39;00m\n\u001B[1;32m     83\u001B[0m monitor\u001B[38;5;241m.\u001B[39mto_csv(\u001B[38;5;124m\"\u001B[39m\u001B[38;5;124mresult.csv\u001B[39m\u001B[38;5;124m\"\u001B[39m)\n",
      "File \u001B[0;32m~/Documents/Studium/TU/Bachelorarbeit/vessim/vessim/cosim.py:104\u001B[0m, in \u001B[0;36mEnvironment.add_microgrid\u001B[0;34m(self, actors, controllers, storage, storage_policy, step_size)\u001B[0m\n\u001B[1;32m    101\u001B[0m \u001B[38;5;28;01mif\u001B[39;00m \u001B[38;5;129;01mnot\u001B[39;00m actors:\n\u001B[1;32m    102\u001B[0m     \u001B[38;5;28;01mraise\u001B[39;00m \u001B[38;5;167;01mValueError\u001B[39;00m(\u001B[38;5;124m\"\u001B[39m\u001B[38;5;124mThere should be at least one actor in the Microgrid.\u001B[39m\u001B[38;5;124m\"\u001B[39m)\n\u001B[0;32m--> 104\u001B[0m microgrid \u001B[38;5;241m=\u001B[39m \u001B[43mMicrogrid\u001B[49m\u001B[43m(\u001B[49m\n\u001B[1;32m    105\u001B[0m \u001B[43m    \u001B[49m\u001B[38;5;28;43mself\u001B[39;49m\u001B[38;5;241;43m.\u001B[39;49m\u001B[43mworld\u001B[49m\u001B[43m,\u001B[49m\n\u001B[1;32m    106\u001B[0m \u001B[43m    \u001B[49m\u001B[38;5;28;43mself\u001B[39;49m\u001B[38;5;241;43m.\u001B[39;49m\u001B[43mclock\u001B[49m\u001B[43m,\u001B[49m\n\u001B[1;32m    107\u001B[0m \u001B[43m    \u001B[49m\u001B[43mactors\u001B[49m\u001B[43m,\u001B[49m\n\u001B[1;32m    108\u001B[0m \u001B[43m    \u001B[49m\u001B[43mcontrollers\u001B[49m\u001B[43m \u001B[49m\u001B[38;5;28;43;01mif\u001B[39;49;00m\u001B[43m \u001B[49m\u001B[43mcontrollers\u001B[49m\u001B[43m \u001B[49m\u001B[38;5;129;43;01mis\u001B[39;49;00m\u001B[43m \u001B[49m\u001B[38;5;129;43;01mnot\u001B[39;49;00m\u001B[43m \u001B[49m\u001B[38;5;28;43;01mNone\u001B[39;49;00m\u001B[43m \u001B[49m\u001B[38;5;28;43;01melse\u001B[39;49;00m\u001B[43m \u001B[49m\u001B[43m[\u001B[49m\u001B[43m]\u001B[49m\u001B[43m,\u001B[49m\n\u001B[1;32m    109\u001B[0m \u001B[43m    \u001B[49m\u001B[43mstorage\u001B[49m\u001B[43m,\u001B[49m\n\u001B[1;32m    110\u001B[0m \u001B[43m    \u001B[49m\u001B[43mstorage_policy\u001B[49m\u001B[43m,\u001B[49m\n\u001B[1;32m    111\u001B[0m \u001B[43m    \u001B[49m\u001B[43mstep_size\u001B[49m\n\u001B[1;32m    112\u001B[0m \u001B[43m\u001B[49m\u001B[43m)\u001B[49m\n\u001B[1;32m    113\u001B[0m \u001B[38;5;28mself\u001B[39m\u001B[38;5;241m.\u001B[39mmicrogrids\u001B[38;5;241m.\u001B[39mappend(microgrid)\n\u001B[1;32m    114\u001B[0m \u001B[38;5;28;01mreturn\u001B[39;00m microgrid\n",
      "File \u001B[0;32m~/Documents/Studium/TU/Bachelorarbeit/vessim/vessim/cosim.py:37\u001B[0m, in \u001B[0;36mMicrogrid.__init__\u001B[0;34m(self, world, clock, actors, controllers, storage, storage_policy, step_size)\u001B[0m\n\u001B[1;32m     35\u001B[0m \u001B[38;5;28;01mif\u001B[39;00m actor_step_size \u001B[38;5;241m%\u001B[39m step_size \u001B[38;5;241m!=\u001B[39m \u001B[38;5;241m0\u001B[39m:\n\u001B[1;32m     36\u001B[0m     \u001B[38;5;28;01mraise\u001B[39;00m \u001B[38;5;167;01mValueError\u001B[39;00m(\u001B[38;5;124m\"\u001B[39m\u001B[38;5;124mActor step size has to be a multiple of grids step size.\u001B[39m\u001B[38;5;124m\"\u001B[39m)\n\u001B[0;32m---> 37\u001B[0m actor_sim \u001B[38;5;241m=\u001B[39m \u001B[43mworld\u001B[49m\u001B[38;5;241;43m.\u001B[39;49m\u001B[43mstart\u001B[49m\u001B[43m(\u001B[49m\u001B[38;5;124;43m\"\u001B[39;49m\u001B[38;5;124;43mActor\u001B[39;49m\u001B[38;5;124;43m\"\u001B[39;49m\u001B[43m,\u001B[49m\u001B[43m \u001B[49m\u001B[43mclock\u001B[49m\u001B[38;5;241;43m=\u001B[39;49m\u001B[43mclock\u001B[49m\u001B[43m,\u001B[49m\u001B[43m \u001B[49m\u001B[43mstep_size\u001B[49m\u001B[38;5;241;43m=\u001B[39;49m\u001B[43mactor_step_size\u001B[49m\u001B[43m)\u001B[49m\n\u001B[1;32m     38\u001B[0m \u001B[38;5;66;03m# We initialize all actors before the grid simulation to make sure that\u001B[39;00m\n\u001B[1;32m     39\u001B[0m \u001B[38;5;66;03m# there is already a valid p_delta at step 0\u001B[39;00m\n\u001B[1;32m     40\u001B[0m actor_entity \u001B[38;5;241m=\u001B[39m actor_sim\u001B[38;5;241m.\u001B[39mActor(actor\u001B[38;5;241m=\u001B[39mactor)\n",
      "File \u001B[0;32m~/Library/Caches/pypoetry/virtualenvs/vessim-yLnJ36-v-py3.9/lib/python3.9/site-packages/mosaik/scenario.py:153\u001B[0m, in \u001B[0;36mWorld.start\u001B[0;34m(self, sim_name, sim_id, **sim_params)\u001B[0m\n\u001B[1;32m    143\u001B[0m \u001B[38;5;28;01mdef\u001B[39;00m\u001B[38;5;250m \u001B[39m\u001B[38;5;21mstart\u001B[39m(\n\u001B[1;32m    144\u001B[0m     \u001B[38;5;28mself\u001B[39m,\n\u001B[1;32m    145\u001B[0m     sim_name: \u001B[38;5;28mstr\u001B[39m,\n\u001B[1;32m    146\u001B[0m     sim_id: Optional[SimId] \u001B[38;5;241m=\u001B[39m \u001B[38;5;28;01mNone\u001B[39;00m,\n\u001B[1;32m    147\u001B[0m     \u001B[38;5;241m*\u001B[39m\u001B[38;5;241m*\u001B[39msim_params: Any,\n\u001B[1;32m    148\u001B[0m ) \u001B[38;5;241m-\u001B[39m\u001B[38;5;241m>\u001B[39m ModelFactory:\n\u001B[1;32m    149\u001B[0m \u001B[38;5;250m    \u001B[39m\u001B[38;5;124;03m\"\"\"\u001B[39;00m\n\u001B[1;32m    150\u001B[0m \u001B[38;5;124;03m    Start the simulator named *sim_name* and return a\u001B[39;00m\n\u001B[1;32m    151\u001B[0m \u001B[38;5;124;03m    :class:`ModelFactory` for it.\u001B[39;00m\n\u001B[1;32m    152\u001B[0m \u001B[38;5;124;03m    \"\"\"\u001B[39;00m\n\u001B[0;32m--> 153\u001B[0m     async_model_factory \u001B[38;5;241m=\u001B[39m \u001B[38;5;28;43mself\u001B[39;49m\u001B[38;5;241;43m.\u001B[39;49m\u001B[43mloop\u001B[49m\u001B[38;5;241;43m.\u001B[39;49m\u001B[43mrun_until_complete\u001B[49m\u001B[43m(\u001B[49m\n\u001B[1;32m    154\u001B[0m \u001B[43m        \u001B[49m\u001B[38;5;28;43mself\u001B[39;49m\u001B[38;5;241;43m.\u001B[39;49m\u001B[43m_async_world\u001B[49m\u001B[38;5;241;43m.\u001B[39;49m\u001B[43mstart\u001B[49m\u001B[43m(\u001B[49m\u001B[43msim_name\u001B[49m\u001B[43m,\u001B[49m\u001B[43m \u001B[49m\u001B[43msim_id\u001B[49m\u001B[43m,\u001B[49m\u001B[43m \u001B[49m\u001B[38;5;241;43m*\u001B[39;49m\u001B[38;5;241;43m*\u001B[39;49m\u001B[43msim_params\u001B[49m\u001B[43m)\u001B[49m\n\u001B[1;32m    155\u001B[0m \u001B[43m    \u001B[49m\u001B[43m)\u001B[49m\n\u001B[1;32m    156\u001B[0m     \u001B[38;5;28;01mreturn\u001B[39;00m ModelFactory(async_model_factory, \u001B[38;5;28mself\u001B[39m\u001B[38;5;241m.\u001B[39mloop)\n",
      "File \u001B[0;32m/Library/Developer/CommandLineTools/Library/Frameworks/Python3.framework/Versions/3.9/lib/python3.9/asyncio/base_events.py:618\u001B[0m, in \u001B[0;36mBaseEventLoop.run_until_complete\u001B[0;34m(self, future)\u001B[0m\n\u001B[1;32m    607\u001B[0m \u001B[38;5;250m\u001B[39m\u001B[38;5;124;03m\"\"\"Run until the Future is done.\u001B[39;00m\n\u001B[1;32m    608\u001B[0m \n\u001B[1;32m    609\u001B[0m \u001B[38;5;124;03mIf the argument is a coroutine, it is wrapped in a Task.\u001B[39;00m\n\u001B[0;32m   (...)\u001B[0m\n\u001B[1;32m    615\u001B[0m \u001B[38;5;124;03mReturn the Future's result, or raise its exception.\u001B[39;00m\n\u001B[1;32m    616\u001B[0m \u001B[38;5;124;03m\"\"\"\u001B[39;00m\n\u001B[1;32m    617\u001B[0m \u001B[38;5;28mself\u001B[39m\u001B[38;5;241m.\u001B[39m_check_closed()\n\u001B[0;32m--> 618\u001B[0m \u001B[38;5;28;43mself\u001B[39;49m\u001B[38;5;241;43m.\u001B[39;49m\u001B[43m_check_running\u001B[49m\u001B[43m(\u001B[49m\u001B[43m)\u001B[49m\n\u001B[1;32m    620\u001B[0m new_task \u001B[38;5;241m=\u001B[39m \u001B[38;5;129;01mnot\u001B[39;00m futures\u001B[38;5;241m.\u001B[39misfuture(future)\n\u001B[1;32m    621\u001B[0m future \u001B[38;5;241m=\u001B[39m tasks\u001B[38;5;241m.\u001B[39mensure_future(future, loop\u001B[38;5;241m=\u001B[39m\u001B[38;5;28mself\u001B[39m)\n",
      "File \u001B[0;32m/Library/Developer/CommandLineTools/Library/Frameworks/Python3.framework/Versions/3.9/lib/python3.9/asyncio/base_events.py:580\u001B[0m, in \u001B[0;36mBaseEventLoop._check_running\u001B[0;34m(self)\u001B[0m\n\u001B[1;32m    578\u001B[0m     \u001B[38;5;28;01mraise\u001B[39;00m \u001B[38;5;167;01mRuntimeError\u001B[39;00m(\u001B[38;5;124m'\u001B[39m\u001B[38;5;124mThis event loop is already running\u001B[39m\u001B[38;5;124m'\u001B[39m)\n\u001B[1;32m    579\u001B[0m \u001B[38;5;28;01mif\u001B[39;00m events\u001B[38;5;241m.\u001B[39m_get_running_loop() \u001B[38;5;129;01mis\u001B[39;00m \u001B[38;5;129;01mnot\u001B[39;00m \u001B[38;5;28;01mNone\u001B[39;00m:\n\u001B[0;32m--> 580\u001B[0m     \u001B[38;5;28;01mraise\u001B[39;00m \u001B[38;5;167;01mRuntimeError\u001B[39;00m(\n\u001B[1;32m    581\u001B[0m         \u001B[38;5;124m'\u001B[39m\u001B[38;5;124mCannot run the event loop while another loop is running\u001B[39m\u001B[38;5;124m'\u001B[39m)\n",
      "\u001B[0;31mRuntimeError\u001B[0m: Cannot run the event loop while another loop is running"
     ]
    }
   ],
   "execution_count": 10
  }
 ],
 "metadata": {
  "kernelspec": {
   "display_name": "Python 3",
   "language": "python",
   "name": "python3"
  },
  "language_info": {
   "codemirror_mode": {
    "name": "ipython",
    "version": 2
   },
   "file_extension": ".py",
   "mimetype": "text/x-python",
   "name": "python",
   "nbconvert_exporter": "python",
   "pygments_lexer": "ipython2",
   "version": "2.7.6"
  }
 },
 "nbformat": 4,
 "nbformat_minor": 5
}
