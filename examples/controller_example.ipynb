{
 "cells": [
  {
   "cell_type": "markdown",
   "metadata": {},
   "source": [
    "# Controllers\n",
    "\n",
    "To actively manipulate the computing or energy systems during experiments, we need to implement a custom `Controller`.\n",
    "\n",
    "In this example, our controller will adjust the power consumption of the compute nodes depending on the current power delta. "
   ]
  },
  {
   "cell_type": "code",
   "execution_count": 2,
   "metadata": {},
   "outputs": [],
   "source": [
    "from __future__ import annotations\n",
    "from vessim.actor import ComputingSystem, Generator\n",
    "from vessim.controller import Controller, Monitor\n",
    "from vessim.cosim import Environment\n",
    "from vessim.power_meter import MockPowerMeter\n",
    "from vessim.signal import HistoricalSignal\n",
    "from vessim.storage import SimpleBattery\n",
    "\n",
    "# Hotfix to execute asyncio in Jupyter\n",
    "import nest_asyncio\n",
    "nest_asyncio.apply()"
   ]
  },
  {
   "cell_type": "markdown",
   "metadata": {},
   "source": [
    "The most important aspect of this procedure is the implementation of the\n",
    "`step()` method, which needs to be implemented as dictated by the Controller\n",
    "ABC. The `step()` method is called every simulation step and allows a Controller\n",
    "to act on the power delta from the Microgrid, the current simulation time and\n",
    "the activity of the Actors. The `SimpleLoadBalancingController` only utilizes\n",
    "the power delta and adjusts, depending on this value, the power consumption of\n",
    "the computing system and in turn the power delta in the next simulation step."
   ]
  },
  {
   "cell_type": "code",
   "execution_count": 3,
   "metadata": {},
   "outputs": [],
   "source": [
    "class SimpleLoadBalancingController(Controller):\n",
    "    def __init__(self, max_load_adjustment: float, power_meters: list[MockPowerMeter]):\n",
    "        super().__init__()\n",
    "        self.max_load_adjustment = max_load_adjustment\n",
    "        self.power_meters = power_meters\n",
    "\n",
    "    def start(self, microgrid) -> None:\n",
    "        pass\n",
    "\n",
    "    def step(self, time: int, p_delta: float, actor_infos: dict) -> None:\n",
    "        # Calculate the maximum adjustment per MockPowerMeter\n",
    "        adjustment_per_meter = min(abs(p_delta), self.max_load_adjustment) / len(self.power_meters)\n",
    "\n",
    "        # Adjust the power setpoint for each MockPowerMeter\n",
    "        for power_meter in self.power_meters:\n",
    "            current_power = power_meter.measure()\n",
    "            # Determine direction of adjustment\n",
    "            if p_delta < 0:\n",
    "                new_power = current_power + adjustment_per_meter\n",
    "            else:\n",
    "                new_power = max(0, current_power - adjustment_per_meter)\n",
    "            power_meter.set_power(new_power)"
   ]
  },
  {
   "cell_type": "markdown",
   "metadata": {},
   "source": [
    "Now we can add the controller to the basic scenario by instantiating it with a\n",
    "reference to the power meters it can control and the maximum load adjustment for\n",
    "each step. The rest of the scenario remains unchanged."
   ]
  },
  {
   "cell_type": "code",
   "execution_count": 4,
   "metadata": {},
   "outputs": [
    {
     "name": "stderr",
     "output_type": "stream",
     "text": [
      "2024-03-15 11:45:05.402 | INFO     | mosaik.scenario:start:280 - Starting \"Actor\" as \"Actor-0\" ...\n",
      "2024-03-15 11:45:05.403 | INFO     | mosaik.scenario:start:280 - Starting \"Actor\" as \"Actor-1\" ...\n",
      "2024-03-15 11:45:05.403 | INFO     | mosaik.scenario:start:280 - Starting \"Grid\" as \"Grid-0\" ...\n",
      "2024-03-15 11:45:05.404 | INFO     | mosaik.scenario:start:280 - Starting \"Controller\" as \"Controller-0\" ...\n",
      "2024-03-15 11:45:05.405 | INFO     | mosaik.scenario:start:280 - Starting \"Controller\" as \"Controller-1\" ...\n",
      "2024-03-15 11:45:05.406 | INFO     | mosaik.scenario:run:598 - Starting simulation.\n",
      "100%|\u001b[32m██████████\u001b[0m| 86400/86400 [00:00<00:00, 156784.40steps/s]\n",
      "2024-03-15 11:45:05.961 | INFO     | mosaik.scenario:run:646 - Simulation finished successfully.\n"
     ]
    }
   ],
   "source": [
    "environment = Environment(sim_start=\"2020-06-11 00:00:00\")\n",
    "\n",
    "power_meters: list = [\n",
    "    MockPowerMeter(p=3),\n",
    "    MockPowerMeter(p=7),\n",
    "]\n",
    "monitor = Monitor()  # Stores simulation result on each step\n",
    "load_balancer = SimpleLoadBalancingController(max_load_adjustment=2, power_meters=power_meters)\n",
    "environment.add_microgrid(\n",
    "    actors=[\n",
    "        ComputingSystem(power_meters=power_meters),\n",
    "        Generator(signal=HistoricalSignal.from_dataset(\"solcast2022_global\"), column=\"Berlin\"),\n",
    "    ],\n",
    "    storage=SimpleBattery(capacity=1000, charge_level=500),\n",
    "    controllers=[monitor, load_balancer],\n",
    "    step_size=60,  # Global step size (can be overridden by actors or controllers)\n",
    ")\n",
    "\n",
    "environment.run(until=24 * 3600) # 24h\n",
    "monitor.to_csv(\"result_csv\")"
   ]
  }
 ],
 "metadata": {
  "kernelspec": {
   "display_name": "Python 3 (ipykernel)",
   "language": "python",
   "name": "python3"
  },
  "language_info": {
   "codemirror_mode": {
    "name": "ipython",
    "version": 3
   },
   "file_extension": ".py",
   "mimetype": "text/x-python",
   "name": "python",
   "nbconvert_exporter": "python",
   "pygments_lexer": "ipython3",
   "version": "3.12.2"
  }
 },
 "nbformat": 4,
 "nbformat_minor": 4
}
